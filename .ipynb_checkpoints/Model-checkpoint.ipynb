{
 "cells": [
  {
   "cell_type": "markdown",
   "metadata": {},
   "source": [
    "Titanic Dataset Model\n",
    "====================="
   ]
  },
  {
   "cell_type": "markdown",
   "metadata": {},
   "source": [
    "Import Libraries\n",
    "----------------"
   ]
  },
  {
   "cell_type": "code",
   "execution_count": 1,
   "metadata": {},
   "outputs": [],
   "source": [
    "import numpy as np\n",
    "import pandas as pd\n",
    "import matplotlib.pyplot as plt\n",
    "import seaborn as sns\n",
    "from pathlib import Path\n",
    "\n",
    "import re\n",
    "\n",
    "from sklearn.model_selection import train_test_split, StratifiedShuffleSplit, GridSearchCV\n",
    "from sklearn.linear_model import LogisticRegression\n",
    "from sklearn.preprocessing import LabelEncoder, OneHotEncoder, StandardScaler\n",
    "from sklearn.pipeline import Pipeline\n",
    "from sklearn.base import TransformerMixin, BaseEstimator\n",
    "from sklearn.linear_model import LinearRegression\n",
    "from sklearn.impute import SimpleImputer\n",
    "from sklearn.compose import ColumnTransformer\n",
    "from sklearn.tree import DecisionTreeClassifier\n",
    "from sklearn.metrics import accuracy_score, log_loss\n",
    "from sklearn.neighbors import KNeighborsClassifier\n",
    "from sklearn.svm import SVC\n",
    "from sklearn.ensemble import RandomForestClassifier, AdaBoostClassifier, GradientBoostingClassifier\n",
    "from sklearn.naive_bayes import GaussianNB\n",
    "from sklearn.discriminant_analysis import LinearDiscriminantAnalysis, QuadraticDiscriminantAnalysis"
   ]
  },
  {
   "cell_type": "code",
   "execution_count": 2,
   "metadata": {},
   "outputs": [],
   "source": [
    "pd.options.mode.chained_assignment = None  # default='warn'"
   ]
  },
  {
   "cell_type": "markdown",
   "metadata": {},
   "source": [
    "Import Data\n",
    "-----------"
   ]
  },
  {
   "cell_type": "code",
   "execution_count": 3,
   "metadata": {},
   "outputs": [],
   "source": [
    "data_path = Path(Path.cwd() / 'Data')\n",
    "\n",
    "df_train = pd.read_csv(data_path / 'train.csv')\n",
    "df_test = pd.read_csv(data_path / 'test.csv')\n",
    "df_gender_sub = pd.read_csv(data_path / 'gender_submission.csv')\n",
    "\n",
    "list_of_df = [df_train, df_test]\n",
    "list_of_df_names = [\"Train\", \"Test\"]"
   ]
  },
  {
   "cell_type": "markdown",
   "metadata": {},
   "source": [
    "Build Transformers and Pipeline\n",
    "-------------------------------"
   ]
  },
  {
   "cell_type": "code",
   "execution_count": 4,
   "metadata": {},
   "outputs": [],
   "source": [
    "class EmptyValuesRowRemover:\n",
    "    \n",
    "    \"\"\"\n",
    "    Removes rows which contain Null values for a specific column or columns.\n",
    "    If there are no columns specified then the transformer will apply to all columns in the dataset.\n",
    "    \"\"\"\n",
    "    \n",
    "    def __init__(self, columns=[]):\n",
    "        self.columns = columns\n",
    "        assert type(columns)==list, \"Error: This class expects a list of columns names to be passed at initiation.\"\n",
    "    \n",
    "    def Remover(self, X):\n",
    "        if self.columns == []:\n",
    "            self.column_list = list(X)\n",
    "        else:\n",
    "            self.column_list = self.columns\n",
    "        self.list_of_bools = []\n",
    "        for column in self.column_list:\n",
    "            X = X.loc[X.loc[:,column].notnull()]\n",
    "        return X"
   ]
  },
  {
   "cell_type": "code",
   "execution_count": 5,
   "metadata": {},
   "outputs": [],
   "source": [
    "class CabinGrouper(BaseEstimator, TransformerMixin):\n",
    "    \n",
    "    \"\"\"\n",
    "    Groups the cabins into categories based on the first letter in the cabin code.\n",
    "    If a field is null it is filled with \"No Assigned Cabin\"\n",
    "    \"\"\"\n",
    "    \n",
    "    def fit(self, X, y=None):\n",
    "        return self\n",
    "    \n",
    "    def transform(self, X):\n",
    "        X.Cabin = X.Cabin.str[0]\n",
    "        X.Cabin = X.Cabin.fillna(\"No Assigned Cabin\")\n",
    "        return X"
   ]
  },
  {
   "cell_type": "code",
   "execution_count": 6,
   "metadata": {},
   "outputs": [],
   "source": [
    "class FamilyCreator(BaseEstimator, TransformerMixin):\n",
    "    \n",
    "    \"\"\"\n",
    "    Creates a new feature called FamilySize\n",
    "    \"\"\"\n",
    "    \n",
    "    def fit(self, X, y=None):\n",
    "        return self\n",
    "    \n",
    "    def transform(self, X):\n",
    "        X['FamilySize'] = X['SibSp'] + X['Parch'] + 1\n",
    "        return X"
   ]
  },
  {
   "cell_type": "code",
   "execution_count": 7,
   "metadata": {},
   "outputs": [],
   "source": [
    "class IsAlone(BaseEstimator, TransformerMixin):\n",
    "    \n",
    "    \"\"\"\n",
    "    Engineers new feature to determine whether individual is alone on the Titanic.\n",
    "    \"\"\"\n",
    "    \n",
    "    def fit(self, X, y=None):\n",
    "        return self\n",
    "    \n",
    "    def transform(self, X):\n",
    "        X['IsAlone'] = 0\n",
    "        X.loc[X['FamilySize'] == 1, 'IsAlone'] = 1\n",
    "        return X"
   ]
  },
  {
   "cell_type": "code",
   "execution_count": 8,
   "metadata": {},
   "outputs": [],
   "source": [
    "class AgeBinning(BaseEstimator, TransformerMixin):\n",
    "    \n",
    "    \"\"\"\n",
    "    Bins ages into categorical bins\n",
    "    \"\"\"\n",
    "    \n",
    "    def fit(self, X, y=None, **fit_params):\n",
    "        return self\n",
    "    \n",
    "    def transform(self, X, y=None, **fit_params):\n",
    "        X['CategoricalAge'] = pd.cut(X['Age'], 5)\n",
    "        return X"
   ]
  },
  {
   "cell_type": "code",
   "execution_count": 9,
   "metadata": {},
   "outputs": [],
   "source": [
    "class DenseTransformer(BaseEstimator, TransformerMixin):\n",
    "    \n",
    "    \"\"\"\n",
    "    Custom SK-learn transformer.\n",
    "    Returns a dense array.\n",
    "    \"\"\"\n",
    "\n",
    "    def fit(self, X, y=None, **fit_params):\n",
    "        return self\n",
    "\n",
    "    def transform(self, X, y=None, **fit_params):\n",
    "        X = X.todense()\n",
    "        return X"
   ]
  },
  {
   "cell_type": "code",
   "execution_count": 10,
   "metadata": {},
   "outputs": [],
   "source": [
    "class HonorificExtractor(BaseEstimator, TransformerMixin):\n",
    "    \n",
    "    \"\"\"\n",
    "    Custom SK-learn transformer.\n",
    "    Extracts honorifics from a string type column and groups them further into:\n",
    "    Officer, Royalty, Mr, Mrs, Miss, Master.\n",
    "    NaN is assumed to be Mr.\n",
    "    \"\"\"\n",
    "    \n",
    "    def __init__(self, column):\n",
    "        self.column = column\n",
    "        \n",
    "    # dictionary to map to generate the new feature vector\n",
    "    title_dictionary = {\n",
    "        \"capt\":\"Officer\", \n",
    "        \"col\":\"Officer\", \n",
    "        \"major\":\"Officer\", \n",
    "        \"dr\":\"Officer\",\n",
    "        \"jonkheer\":\"Royalty\",\n",
    "        \"rev\":\"Officer\",\n",
    "        \"countess\":\"Royalty\",\n",
    "        \"dona\":\"Royalty\",\n",
    "        \"don\":\"Royalty\",\n",
    "        \"mr\":\"Mr\",\n",
    "        \"mme\":\"Mrs\",\n",
    "        \"ms\":\"Mrs\",\n",
    "        \"mrs\":\"Mrs\",\n",
    "        \"miss\":\"Miss\",\n",
    "        \"mlle\":\"Miss\",\n",
    "        \"master\":\"Master\",\n",
    "        \"nan\":\"Mr\"\n",
    "    }\n",
    "    \n",
    "    def get_title(self, string):\n",
    "        regex = re.compile(\n",
    "            r'Mr|Don|Major|Capt|Jonkheer|Rev|Col|Dr|Mrs|Countess|Dona|Mme|Ms|Miss|Mlle|Master', \n",
    "            re.IGNORECASE\n",
    "        )\n",
    "        results = regex.search(string)\n",
    "        if results != None:\n",
    "            return(results.group().lower())\n",
    "        else:\n",
    "            return(str(np.nan))\n",
    "    \n",
    "    def fit(self, X, y=None):\n",
    "        return self\n",
    "    \n",
    "    def transform(self, X):\n",
    "        X['Title'] = X.loc[:,self.column].apply(self.get_title)\n",
    "        X['Title'] = X.loc[:,'Title'].map(self.title_dictionary)\n",
    "        X = X.drop(self.column, axis=1)\n",
    "        return X"
   ]
  },
  {
   "cell_type": "code",
   "execution_count": 11,
   "metadata": {},
   "outputs": [],
   "source": [
    "PrePreprocessingPipe = Pipeline(\n",
    "    steps=[\n",
    "#         (\"evrr\", EmptyValuesRowRemover(columns=[\"Age\"])),\n",
    "        (\"fc\", FamilyCreator()),\n",
    "        (\"ia\", IsAlone()),\n",
    "        (\"ab\", AgeBinning()),\n",
    "        (\"he\", HonorificExtractor(column=\"Name\"))\n",
    "    ]\n",
    ")"
   ]
  },
  {
   "cell_type": "code",
   "execution_count": 12,
   "metadata": {},
   "outputs": [],
   "source": [
    "numeric_features = ['Age', 'Fare', 'SibSp', 'Parch', 'FamilySize']\n",
    "numeric_transformer = Pipeline(\n",
    "    steps=[\n",
    "        ('imputer', SimpleImputer(strategy='median')),\n",
    "        ('scaler', StandardScaler())\n",
    "    ]\n",
    ")"
   ]
  },
  {
   "cell_type": "code",
   "execution_count": 13,
   "metadata": {},
   "outputs": [],
   "source": [
    "categorical_features = ['Embarked', 'Sex', 'Pclass', 'Cabin', 'IsAlone', 'CategoricalAge']\n",
    "categorical_transformer = Pipeline(steps=[\n",
    "    ('imputer', SimpleImputer(strategy='most_frequent')),\n",
    "    ('onehot', OneHotEncoder(handle_unknown='ignore'))])"
   ]
  },
  {
   "cell_type": "code",
   "execution_count": 14,
   "metadata": {},
   "outputs": [],
   "source": [
    "PreprocessingPipeline = Pipeline(\n",
    "    steps=[\n",
    "        (\"pp\", PrePreprocessingPipe), \n",
    "        (\"ct\", ColumnTransformer(\n",
    "            transformers=[\n",
    "                ('num', numeric_transformer, numeric_features),\n",
    "                ('cat', categorical_transformer, categorical_features)\n",
    "            ]\n",
    "        ))\n",
    "    ]\n",
    ")\n"
   ]
  },
  {
   "cell_type": "code",
   "execution_count": 16,
   "metadata": {},
   "outputs": [
    {
     "name": "stdout",
     "output_type": "stream",
     "text": [
      "(891, 12) (418, 11)\n",
      "(891, 11) (418, 11) (891,)\n"
     ]
    }
   ],
   "source": [
    "Model = Pipeline(\n",
    "    steps=[\n",
    "        ('pp', PreprocessingPipeline),\n",
    "        ('classifier', LogisticRegression(solver='lbfgs'))\n",
    "    ]\n",
    ")\n",
    "\n",
    "for df in [df_train, df_test]:\n",
    "    df = EmptyValuesRowRemover(columns=[\"Age\"]).Remover(df)\n",
    "\n",
    "X_train = df_train.drop('Survived', axis='columns')\n",
    "X_test = df_test\n",
    "y_train = df_train.loc[:,'Survived']\n",
    "\n",
    "Model.fit(X_train, y_train.values.ravel())\n",
    "y_predict = Model.predict(X_test)\n",
    "df_results = pd.DataFrame({\"PassengerId\": X_test.PassengerId, \"Survived\": y_predict})\n",
    "df_results.to_csv(\"submission_NEW.csv\", index=False)"
   ]
  },
  {
   "cell_type": "code",
   "execution_count": 17,
   "metadata": {},
   "outputs": [
    {
     "data": {
      "image/png": "[encoded data removed]",
      "text/plain": [
       "<Figure size 288x288 with 1 Axes>"
      ]
     },
     "metadata": {
      "needs_background": "light"
     },
     "output_type": "display_data"
    },
    {
     "data": {
      "image/png": "[encoded data removed]",
      "text/plain": [
       "<Figure size 432x288 with 1 Axes>"
      ]
     },
     "metadata": {
      "needs_background": "light"
     },
     "output_type": "display_data"
    },
    {
     "name": "stdout",
     "output_type": "stream",
     "text": [
      "                   Classifier  Accuracy\n",
      "0        KNeighborsClassifier  0.779104\n",
      "0                         SVC  0.811567\n",
      "0      DecisionTreeClassifier  0.767164\n",
      "0      RandomForestClassifier  0.805224\n",
      "0          AdaBoostClassifier  0.791791\n",
      "0  GradientBoostingClassifier  0.823881\n",
      "0                  GaussianNB  0.647015\n",
      "0          LogisticRegression  0.808955\n"
     ]
    }
   ],
   "source": [
    "classifiers = [\n",
    "    KNeighborsClassifier(3),\n",
    "    SVC(probability=True, gamma='scale'),\n",
    "    DecisionTreeClassifier(),\n",
    "    RandomForestClassifier(n_estimators=100),\n",
    "    AdaBoostClassifier(),\n",
    "    GradientBoostingClassifier(),\n",
    "    GaussianNB(),\n",
    "#     LinearDiscriminantAnalysis(),\n",
    "#     QuadraticDiscriminantAnalysis(),\n",
    "    LogisticRegression(solver='lbfgs')\n",
    "]\n",
    "\n",
    "log_cols = [\"Classifier\", \"Accuracy\"]\n",
    "log = pd.DataFrame(columns=log_cols)\n",
    "sss = StratifiedShuffleSplit(n_splits=10, test_size=0.3, random_state=0)\n",
    "\n",
    "acc_dict = {}\n",
    "\n",
    "for train_index, test_index in sss.split(X_train.values, y_train.values): \n",
    "    Xtrain, Xtest = X_train.iloc[train_index], X_train.iloc[test_index]\n",
    "    ytrain, ytest = y_train.iloc[train_index], y_train.iloc[test_index]\n",
    "    \n",
    "    for clf in classifiers:\n",
    "        name = clf.__class__.__name__\n",
    "        Model = Pipeline(\n",
    "            steps=[\n",
    "                ('pp', PreprocessingPipeline),\n",
    "                ('to_dense', DenseTransformer()),\n",
    "                ('classifier', clf)\n",
    "            ]\n",
    "        )\n",
    "        Model.fit(Xtrain, ytrain)\n",
    "        train_predictions = Model.predict(Xtest)\n",
    "        acc = accuracy_score(ytest, train_predictions)\n",
    "        if name in acc_dict:\n",
    "            acc_dict[name] += acc\n",
    "        else:\n",
    "            acc_dict[name] = acc\n",
    "            \n",
    "for clf in acc_dict:\n",
    "    acc_dict[clf] = acc_dict[clf] / 10.0\n",
    "    log_entry = pd.DataFrame([[clf, acc_dict[clf]]], columns=log_cols)\n",
    "    log = log.append(log_entry)\n",
    "    \n",
    "plt.matshow(Xtrain.corr())\n",
    "plt.show()\n",
    "\n",
    "plt.xlabel('Accuracy')\n",
    "plt.title('Classifier Accuracy')\n",
    "\n",
    "sns.set_color_codes(\"muted\")\n",
    "sns.barplot(x='Accuracy', y='Classifier', data=log, color=\"b\")\n",
    "plt.show()\n",
    "\n",
    "print(log)"
   ]
  }
 ],
 "metadata": {
  "kernelspec": {
   "display_name": "Python 3",
   "language": "python",
   "name": "python3"
  },
  "language_info": {
   "codemirror_mode": {
    "name": "ipython",
    "version": 3
   },
   "file_extension": ".py",
   "mimetype": "text/x-python",
   "name": "python",
   "nbconvert_exporter": "python",
   "pygments_lexer": "ipython3",
   "version": "3.7.1"
  }
 },
 "nbformat": 4,
 "nbformat_minor": 2
}
